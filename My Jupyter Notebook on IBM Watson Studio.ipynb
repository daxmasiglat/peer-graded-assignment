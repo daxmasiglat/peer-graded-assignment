{
 "cells": [
  {
   "cell_type": "markdown",
   "metadata": {
    "collapsed": true
   },
   "source": [
    "<h1>My Jupyter Notebook on IBM Watson</h1>"
   ]
  },
  {
   "cell_type": "markdown",
   "metadata": {},
   "source": [
    "## Danica Masiglat\n",
    "Data Scientist"
   ]
  },
  {
   "cell_type": "markdown",
   "metadata": {},
   "source": [
    "<i>I am interested in data science because I know that we have unlimited data available to help us make better decisions. My goal is to have the required skill to be able to utilize data properly."
   ]
  },
  {
   "cell_type": "markdown",
   "metadata": {},
   "source": [
    "### Change the value of x and a message will let you know if it satisfies the equation or not."
   ]
  },
  {
   "cell_type": "code",
   "execution_count": 12,
   "metadata": {},
   "outputs": [
    {
     "name": "stdout",
     "output_type": "stream",
     "text": [
      "That's true!\n"
     ]
    }
   ],
   "source": [
    "# Chnage the value of x before running the code\n",
    "\n",
    "x = 5\n",
    "\n",
    "if(x>2):\n",
    "   print(\"That's true!\")\n",
    "else:\n",
    "    print(\"Incorrect, try Again!\")\n"
   ]
  },
  {
   "cell_type": "markdown",
   "metadata": {},
   "source": [
    "| x | That's true! | Incorrect, try again! |\n",
    "| :---: | :---: | :---: |\n",
    "| 0 | False | True |\n",
    "| 1 | False | True |\n",
    "| 2 | False | True |\n",
    "| 3 | True | False |\n",
    "| 4 | True | False |\n",
    "| 5 | True | False |\n"
   ]
  }
 ],
 "metadata": {
  "kernelspec": {
   "display_name": "Python 3.9",
   "language": "python",
   "name": "python3"
  },
  "language_info": {
   "codemirror_mode": {
    "name": "ipython",
    "version": 3
   },
   "file_extension": ".py",
   "mimetype": "text/x-python",
   "name": "python",
   "nbconvert_exporter": "python",
   "pygments_lexer": "ipython3",
   "version": "3.9.12"
  }
 },
 "nbformat": 4,
 "nbformat_minor": 1
}
